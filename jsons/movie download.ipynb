{
 "cells": [
  {
   "cell_type": "code",
   "execution_count": 2,
   "metadata": {},
   "outputs": [],
   "source": [
    "import requests\n",
    "\n",
    "import re\n",
    "linky = re.compile('scripts/.*\\.html')\n",
    "mname = re.compile('<a href=\\\"scripts/.*\\.html\\\">(.*)</a>&')\n",
    "\n",
    "res = requests.get('http://www.dailyscript.com/movie.html')\n",
    "\n",
    "list_slugs = linky.findall(res.text)\n",
    "list_titles = mname.findall(res.text)"
   ]
  },
  {
   "cell_type": "code",
   "execution_count": 3,
   "metadata": {},
   "outputs": [],
   "source": [
    "#for x in range(0,len(list_slugs)):\n",
    "#        print (list_slugs[x], list_titles[x])\n",
    "\n",
    "#res = requests.get('http://www.dailyscript.com/10Things.html')\n",
    "#print(res.text[:10000])"
   ]
  },
  {
   "cell_type": "code",
   "execution_count": 56,
   "metadata": {},
   "outputs": [],
   "source": [
    "#Reminder: Don't DDOS the site! Chunks of 10.\n",
    "import sys\n",
    "\n",
    "for y in range(237,237):\n",
    "    res = requests.get('http://www.dailyscript.com/' + list_slugs[y])\n",
    "    file = open(\"scripts/\"+ list_titles[y]+\".txt\", \"w\")\n",
    "    file.write((res.text).encode('utf8'))\n",
    "    file.close()"
   ]
  },
  {
   "cell_type": "code",
   "execution_count": null,
   "metadata": {},
   "outputs": [],
   "source": [
    ""
   ]
  }
 ],
 "metadata": {
  "kernelspec": {
   "display_name": "Python 2",
   "language": "python",
   "name": "python2"
  },
  "language_info": {
   "codemirror_mode": {
    "name": "ipython",
    "version": 2.0
   },
   "file_extension": ".py",
   "mimetype": "text/x-python",
   "name": "python",
   "nbconvert_exporter": "python",
   "pygments_lexer": "ipython2",
   "version": "2.7.11"
  }
 },
 "nbformat": 4,
 "nbformat_minor": 0
}